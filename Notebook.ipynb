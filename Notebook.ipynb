{
 "cells": [
  {
   "cell_type": "markdown",
   "id": "4ff9d3a2-5df3-41c0-a3b2-4cf5950375e0",
   "metadata": {},
   "source": [
    "<u><b><h1 style=\"text-align:center; line-height:1.5; color:#000000; background:#EFEFEF; border: 1px solid #FF6B6B ; padding:20px;\">Visual exploration of a Dataset: 2022 French Presidential Elections - First Round Results by Departments</h1></b></u>"
   ]
  },
  {
   "cell_type": "markdown",
   "id": "b862bb84-c52e-4223-9386-04aafa3040f5",
   "metadata": {},
   "source": []
  },
  {
   "cell_type": "markdown",
   "id": "0f714708-9676-4e25-b597-19dfd729cd4d",
   "metadata": {},
   "source": [
    "<b><h2 style=\"padding: 10px; border-left: 3px solid #FF6B6B;\">Dataset</h2></b>"
   ]
  },
  {
   "cell_type": "markdown",
   "id": "732a0d8c-16cd-4783-9448-efaa04068a09",
   "metadata": {},
   "source": [
    "Downloaded from https://www.data.gouv.fr/fr/datasets/election-presidentielle-des-10-et-24-avril-2022-resultats-definitifs-du-1er-tour/ It's an official source, final results provided by the French administration.\n",
    "It contains the details results of the 1st round of 2022 French presidential elections by department which is 107 departments and 12 candidates as well as other information such as absention, null and invalid votes."
   ]
  },
  {
   "cell_type": "markdown",
   "id": "50c3fb5d-c26c-4f52-84bd-ad1e94b452c7",
   "metadata": {},
   "source": [
    "## Preparing the dataset for analysis\n",
    "1. Columns titles translated into English and changed into a Python friendly format e.g. department_code easier to manipulate during the analysis.\n",
    "2. The results for each candidates were split among different columns, some of them without header i.e Candidate 1 gender | Candidate 1 surname | Candidate 1 first name | Candidate 1 number of votes | Candidate 1 % of registered voters | Candidate 1 % of valid votes and the pattern repeats for other 11 candidates. It was decided to name manually all columns headers in Excel so that, once uploaded in Python, we can merge the candidate result details in one single consolidate column"
   ]
  },
  {
   "cell_type": "markdown",
   "id": "38c7883a-6181-438c-b9a2-74d5f4135db2",
   "metadata": {},
   "source": [
    "<b><h2 style=\"padding: 10px; border-left: 3px solid #FF6B6B;\">Working hypothesis / questions</h2></b>"
   ]
  },
  {
   "cell_type": "markdown",
   "id": "67384947-a228-4a9d-961e-e5de9b685639",
   "metadata": {},
   "source": [
    "- What are the results on national and departmental level?\n",
    "- What about people who didn't vote for a candidate (null, abstention...)?\n",
    "- Do smaller departments vote differently from larger ones?\n",
    "- Is abstention more common in low-density areas?\n",
    "- Do certain candidates perform better in urban vs rural areas?"
   ]
  },
  {
   "cell_type": "markdown",
   "id": "71fd02b5-ee76-418a-a967-af90f92a8575",
   "metadata": {},
   "source": []
  },
  {
   "cell_type": "code",
   "execution_count": null,
   "id": "202f23f9-9a06-41f4-befc-51c2f30304bb",
   "metadata": {},
   "outputs": [],
   "source": []
  }
 ],
 "metadata": {
  "kernelspec": {
   "display_name": "Python 3 (ipykernel)",
   "language": "python",
   "name": "python3"
  },
  "language_info": {
   "codemirror_mode": {
    "name": "ipython",
    "version": 3
   },
   "file_extension": ".py",
   "mimetype": "text/x-python",
   "name": "python",
   "nbconvert_exporter": "python",
   "pygments_lexer": "ipython3",
   "version": "3.12.5"
  }
 },
 "nbformat": 4,
 "nbformat_minor": 5
}
