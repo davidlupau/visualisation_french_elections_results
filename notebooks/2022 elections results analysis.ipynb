{
 "cells": [
  {
   "cell_type": "markdown",
   "id": "4ff9d3a2-5df3-41c0-a3b2-4cf5950375e0",
   "metadata": {},
   "source": [
    "<u><b><h1 style=\"text-align:center; line-height:1.5; color:#000000; background:#EFEFEF; border: 1px solid #FF6B6B ; padding:20px;\">Visual exploration of a Dataset: 2022 French Presidential Elections - First Round Results by Departments</h1></b></u>"
   ]
  },
  {
   "cell_type": "markdown",
   "id": "b862bb84-c52e-4223-9386-04aafa3040f5",
   "metadata": {},
   "source": [
    "This analysis examines the 2022 French Presidential election results from the first round, obtained from the official French governmental portal (<a href=\"https://www.data.gouv.fr/fr/datasets/election-presidentielle-des-10-et-24-avril-2022-resultats-definitifs-du-1er-tour/\">data.gouv.fr</a>)."
   ]
  },
  {
   "cell_type": "markdown",
   "id": "06a366e6-581c-486a-95b9-53738a03f018",
   "metadata": {},
   "source": [
    "### General approach"
   ]
  },
  {
   "cell_type": "markdown",
   "id": "0f714708-9676-4e25-b597-19dfd729cd4d",
   "metadata": {},
   "source": [
    "<b><h2 style=\"padding: 10px; border-left: 3px solid #FF6B6B;\">Dataset Overview</h2></b>"
   ]
  },
  {
   "cell_type": "markdown",
   "id": "732a0d8c-16cd-4783-9448-efaa04068a09",
   "metadata": {},
   "source": [
    "### Dataset Characteristics:\n",
    "\n",
    "- Geographic Coverage: 107 French departments (including overseas territories)\n",
    "- Electoral Data: Registered voters, abstentions, blank votes, invalid votes, and expressed votes\n",
    "- Candidate Coverage: All 12 presidential candidates across the political spectrum\n",
    "- Data Granularity: Department-level aggregation with both absolute counts and calculated percentages\n",
    "\n",
    "### Candidate Political Spectrum:\n",
    "The dataset includes candidates ranging from Nathalie Arthaud (far-left) to Marine Le Pen (far-right), including incumbent President Emmanuel Macron (center).\n",
    "\n",
    "### Data Structure:\n",
    "For each department-candidate combination, the dataset provides vote counts and percentages calculated relative to both registered voters and expressed votes, facilitating multi-dimensional electoral analysis."
   ]
  },
  {
   "cell_type": "markdown",
   "id": "098dd062-7e6c-4bba-8649-7aadfd9bf9e7",
   "metadata": {},
   "source": [
    "### Initial Data Quality Assessment"
   ]
  },
  {
   "cell_type": "markdown",
   "id": "dfb931ac-40f4-41a2-b58a-ffef5892eaa1",
   "metadata": {},
   "source": [
    "Basic information about the dataset and the percentage of neull values in each column were retrieved and exported to an Excel in dedicated output file folder for easier interpretation."
   ]
  },
  {
   "cell_type": "code",
   "execution_count": null,
   "id": "a01ae5b6-a998-4495-970e-a40ddccf34fa",
   "metadata": {},
   "outputs": [],
   "source": [
    "# Get a summary of the dataset\n",
    "print(df.info())\n",
    "\n",
    "# Calculate missing values in each column\n",
    "missing_percentage = df.isnull().mean() * 100"
   ]
  },
  {
   "cell_type": "code",
   "execution_count": null,
   "id": "06164b51-2ad9-4e4b-b48d-a738cab1212f",
   "metadata": {},
   "outputs": [],
   "source": [
    "# Console output\n",
    "<class 'pandas.core.frame.DataFrame'>\n",
    "RangeIndex: 107 entries, 0 to 106\n",
    "Data columns (total 89 columns):\n",
    " #   Column                         Non-Null Count  Dtype  \n",
    "---  ------                         --------------  -----  \n",
    " 0   department_code                107 non-null    object \n",
    " 1   department_name                107 non-null    object \n",
    " 2   status                         107 non-null    object \n",
    " 3   total_registered_voters        107 non-null    int64  \n",
    "...\n",
    " 88  candidate_12_votes_pct_voters  107 non-null    float64\n",
    "dtypes: float64(32), int64(18), object(39)\n",
    "memory usage: 74.5+ KB\n",
    "None"
   ]
  },
  {
   "attachments": {},
   "cell_type": "markdown",
   "id": "d6ff20b7-847b-4d1b-9154-0890c4b026fc",
   "metadata": {},
   "source": [
    "<div style=\"background-color: #f8f9fa; color: #000000; padding: 15px; border-radius: 8px; border: 1px solid #6c757d; margin: 15px 0;\">\n",
    "<p><strong>💡 Conclusion:</strong></p> <li>107 rows and 89 columns, with each row representing one French department and multiple columns dedicated to each of the 12 presidential candidates.</li>\n",
    "<li>The memory usage of 74.5+ KB indicates a manageable dataset size for computational processing</li>\n",
    "<li>No null values accross columns</li>\n",
    "<li>The data types appear appropriate, with numerical voting data stored as integers and floats, while categorical information (candidate names, genders, department names) is stored as object types.</li></div>"
   ]
  },
  {
   "attachments": {},
   "cell_type": "markdown",
   "id": "edc8d9cb-e7fe-4f08-80f0-7e6775e5e984",
   "metadata": {},
   "source": [
    "<div style=\"background-color: #fff3e0; color: #000000; padding: 15px; border-radius: 8px; border: 1px solid #ff9800; margin: 15px 0;\">\n",
    "<p><strong>⚠️ Potential issue - challenges:</strong></p> <li>Wide format spreads candidate information across multiple columns, requiring data aggregation to consolidate all candidates into a single column structure. This transformation will necessitate careful consideration of how to preserve department-level information while enabling candidate-specific analysis.</li>\n",
    "<li>Column headers for 11 out of 12 candidates appear to be missing.</li>\n",
    "<li>The dataset includes a row for \"French citizens living abroad,\" which should be excluded from geo-graphic department-level analysis while remaining relevant for overall national statistics.</li></div>"
   ]
  },
  {
   "cell_type": "markdown",
   "id": "50c3fb5d-c26c-4f52-84bd-ad1e94b452c7",
   "metadata": {},
   "source": [
    "## Preparing the dataset for analysis\n",
    "1. Columns titles translated into English and changed into a Python friendly format e.g. department_code easier to manipulate during the analysis.\n",
    "2. The results for each candidates were split among different columns, some of them without header i.e Candidate 1 gender | Candidate 1 surname | Candidate 1 first name | Candidate 1 number of votes | Candidate 1 % of registered voters | Candidate 1 % of valid votes and the pattern repeats for other 11 candidates. It was decided to name manually all columns headers in Excel so that, once uploaded in Python, we can merge the candidate result details in one single consolidate column"
   ]
  },
  {
   "cell_type": "markdown",
   "id": "38c7883a-6181-438c-b9a2-74d5f4135db2",
   "metadata": {},
   "source": [
    "<b><h2 style=\"padding: 10px; border-left: 3px solid #FF6B6B;\">Working hypothesis / questions</h2></b>"
   ]
  },
  {
   "cell_type": "markdown",
   "id": "67384947-a228-4a9d-961e-e5de9b685639",
   "metadata": {},
   "source": [
    "- What are the results on national and departmental level?\n",
    "- What about people who didn't vote for a candidate (null, abstention...)?\n",
    "- Do smaller departments vote differently from larger ones?\n",
    "- Is abstention more common in low-density areas?\n",
    "- Do certain candidates perform better in urban vs rural areas?\n",
    "- Difference between metropolitan et outre mer\n",
    "- Correlation between the candidate with the most votes and absention\n",
    "- Is there a candidate that won significantly more departments?"
   ]
  },
  {
   "cell_type": "markdown",
   "id": "71fd02b5-ee76-418a-a967-af90f92a8575",
   "metadata": {},
   "source": [
    "<b><h2 style=\"padding: 10px; border-left: 3px solid #FF6B6B;\">Initial Steps</h2></b>"
   ]
  },
  {
   "cell_type": "markdown",
   "id": "84ccd9c3-8690-4f0b-ad9a-7fe441bc138e",
   "metadata": {},
   "source": [
    "### Required libraries\n",
    "- pandas\n",
    "- matplotlib\n",
    "- plotly\n",
    "- seaborn\n",
    "- requests\n",
    "- pathlib"
   ]
  },
  {
   "cell_type": "code",
   "execution_count": null,
   "id": "202f23f9-9a06-41f4-befc-51c2f30304bb",
   "metadata": {},
   "outputs": [],
   "source": []
  }
 ],
 "metadata": {
  "kernelspec": {
   "display_name": "Python 3 (ipykernel)",
   "language": "python",
   "name": "python3"
  },
  "language_info": {
   "codemirror_mode": {
    "name": "ipython",
    "version": 3
   },
   "file_extension": ".py",
   "mimetype": "text/x-python",
   "name": "python",
   "nbconvert_exporter": "python",
   "pygments_lexer": "ipython3",
   "version": "3.12.5"
  }
 },
 "nbformat": 4,
 "nbformat_minor": 5
}
